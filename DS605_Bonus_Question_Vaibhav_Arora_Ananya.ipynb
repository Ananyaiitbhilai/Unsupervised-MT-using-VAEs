{
 "cells": [
  {
   "cell_type": "code",
   "execution_count": 1,
   "id": "4468339d",
   "metadata": {},
   "outputs": [],
   "source": [
    "import numpy as np\n",
    "import pandas as pd \n",
    "import spacy \n",
    "from datasets import load_dataset\n",
    "import pickle\n",
    "import string\n",
    "from string import digits\n",
    "import re"
   ]
  },
  {
   "cell_type": "code",
   "execution_count": 2,
   "id": "8c756641",
   "metadata": {},
   "outputs": [],
   "source": [
    "# dataset = load_dataset(\"cfilt/iitb-english-hindi\")\n",
    "# def save_object(obj, path):\n",
    "#     with open(path, 'wb') as file:\n",
    "#         pickle.dump(obj, file)\n",
    "    \n",
    "    \n",
    "# save_object(dataset, 'dataset_english_hindi')\n",
    "\n",
    "\n",
    "# #already downloaded"
   ]
  },
  {
   "cell_type": "code",
   "execution_count": 3,
   "id": "723d8415",
   "metadata": {},
   "outputs": [],
   "source": [
    "with open('dataset_english_hindi', 'rb') as file:\n",
    "    dataset = pickle.load(file)"
   ]
  },
  {
   "cell_type": "code",
   "execution_count": 4,
   "id": "9e5994c1",
   "metadata": {},
   "outputs": [],
   "source": [
    "train = pd.DataFrame(dataset['train']['translation'])\n",
    "test = pd.DataFrame(dataset['test']['translation'])\n",
    "val = pd.DataFrame(dataset['validation']['translation'])"
   ]
  },
  {
   "cell_type": "code",
   "execution_count": 5,
   "id": "1c642d5e",
   "metadata": {},
   "outputs": [
    {
     "data": {
      "text/html": [
       "<div>\n",
       "<style scoped>\n",
       "    .dataframe tbody tr th:only-of-type {\n",
       "        vertical-align: middle;\n",
       "    }\n",
       "\n",
       "    .dataframe tbody tr th {\n",
       "        vertical-align: top;\n",
       "    }\n",
       "\n",
       "    .dataframe thead th {\n",
       "        text-align: right;\n",
       "    }\n",
       "</style>\n",
       "<table border=\"1\" class=\"dataframe\">\n",
       "  <thead>\n",
       "    <tr style=\"text-align: right;\">\n",
       "      <th></th>\n",
       "      <th>en</th>\n",
       "      <th>hi</th>\n",
       "    </tr>\n",
       "  </thead>\n",
       "  <tbody>\n",
       "    <tr>\n",
       "      <th>0</th>\n",
       "      <td>Give your application an accessibility workout</td>\n",
       "      <td>अपने अनुप्रयोग को पहुंचनीयता व्यायाम का लाभ दें</td>\n",
       "    </tr>\n",
       "    <tr>\n",
       "      <th>1</th>\n",
       "      <td>Accerciser Accessibility Explorer</td>\n",
       "      <td>एक्सेर्साइसर पहुंचनीयता अन्वेषक</td>\n",
       "    </tr>\n",
       "    <tr>\n",
       "      <th>2</th>\n",
       "      <td>The default plugin layout for the bottom panel</td>\n",
       "      <td>निचले पटल के लिए डिफोल्ट प्लग-इन खाका</td>\n",
       "    </tr>\n",
       "    <tr>\n",
       "      <th>3</th>\n",
       "      <td>The default plugin layout for the top panel</td>\n",
       "      <td>ऊपरी पटल के लिए डिफोल्ट प्लग-इन खाका</td>\n",
       "    </tr>\n",
       "    <tr>\n",
       "      <th>4</th>\n",
       "      <td>A list of plugins that are disabled by default</td>\n",
       "      <td>उन प्लग-इनों की सूची जिन्हें डिफोल्ट रूप से नि...</td>\n",
       "    </tr>\n",
       "  </tbody>\n",
       "</table>\n",
       "</div>"
      ],
      "text/plain": [
       "                                               en  \\\n",
       "0  Give your application an accessibility workout   \n",
       "1               Accerciser Accessibility Explorer   \n",
       "2  The default plugin layout for the bottom panel   \n",
       "3     The default plugin layout for the top panel   \n",
       "4  A list of plugins that are disabled by default   \n",
       "\n",
       "                                                  hi  \n",
       "0    अपने अनुप्रयोग को पहुंचनीयता व्यायाम का लाभ दें  \n",
       "1                    एक्सेर्साइसर पहुंचनीयता अन्वेषक  \n",
       "2              निचले पटल के लिए डिफोल्ट प्लग-इन खाका  \n",
       "3               ऊपरी पटल के लिए डिफोल्ट प्लग-इन खाका  \n",
       "4  उन प्लग-इनों की सूची जिन्हें डिफोल्ट रूप से नि...  "
      ]
     },
     "execution_count": 5,
     "metadata": {},
     "output_type": "execute_result"
    }
   ],
   "source": [
    "train.head()"
   ]
  },
  {
   "cell_type": "code",
   "execution_count": 6,
   "id": "1ae37b6f",
   "metadata": {},
   "outputs": [
    {
     "data": {
      "text/plain": [
       "((1659083, 2), (2507, 2), (520, 2))"
      ]
     },
     "execution_count": 6,
     "metadata": {},
     "output_type": "execute_result"
    }
   ],
   "source": [
    "train.shape, test.shape, val.shape"
   ]
  },
  {
   "cell_type": "code",
   "execution_count": 7,
   "id": "4e128759",
   "metadata": {},
   "outputs": [],
   "source": [
    "# Reducing my data to have only 2k sentences...will change it later\n",
    "train = train.sample(2000)"
   ]
  },
  {
   "cell_type": "markdown",
   "id": "d0bd9bc4",
   "metadata": {},
   "source": [
    "## Data Preprocessing"
   ]
  },
  {
   "cell_type": "code",
   "execution_count": 10,
   "id": "c12ba1f9",
   "metadata": {},
   "outputs": [
    {
     "data": {
      "text/html": [
       "<div>\n",
       "<style scoped>\n",
       "    .dataframe tbody tr th:only-of-type {\n",
       "        vertical-align: middle;\n",
       "    }\n",
       "\n",
       "    .dataframe tbody tr th {\n",
       "        vertical-align: top;\n",
       "    }\n",
       "\n",
       "    .dataframe thead th {\n",
       "        text-align: right;\n",
       "    }\n",
       "</style>\n",
       "<table border=\"1\" class=\"dataframe\">\n",
       "  <thead>\n",
       "    <tr style=\"text-align: right;\">\n",
       "      <th></th>\n",
       "      <th>en</th>\n",
       "      <th>hi</th>\n",
       "      <th>length_eng_sentence</th>\n",
       "      <th>length_hin_sentence</th>\n",
       "    </tr>\n",
       "  </thead>\n",
       "  <tbody>\n",
       "    <tr>\n",
       "      <th>1593765</th>\n",
       "      <td>this division of the rigveda is most popular a...</td>\n",
       "      <td>START_ start ऋग्वेद का यह मंडल सबसे लोकप्रिय औ...</td>\n",
       "      <td>32</td>\n",
       "      <td>35</td>\n",
       "    </tr>\n",
       "    <tr>\n",
       "      <th>1633986</th>\n",
       "      <td>governorgeneral dalhousie himself travelled to...</td>\n",
       "      <td>START_ start गवर्नर जनरल डलहौज़ी ने हीरा प्राप्...</td>\n",
       "      <td>17</td>\n",
       "      <td>22</td>\n",
       "    </tr>\n",
       "    <tr>\n",
       "      <th>1125563</th>\n",
       "      <td>he cultivates fishes such as rohu catla bata m...</td>\n",
       "      <td>START_ start उन्होंतने अपने तालाब में रोहू काट...</td>\n",
       "      <td>20</td>\n",
       "      <td>25</td>\n",
       "    </tr>\n",
       "    <tr>\n",
       "      <th>248358</th>\n",
       "      <td>and every time i called them that you may forg...</td>\n",
       "      <td>START_ start और जब भी मैंने उन्हें बुलाया ताकि...</td>\n",
       "      <td>32</td>\n",
       "      <td>44</td>\n",
       "    </tr>\n",
       "    <tr>\n",
       "      <th>273933</th>\n",
       "      <td>but they cried him lies and hamstrung her so t...</td>\n",
       "      <td>START_ start किन्तु उन्होंने उसे झुठलाया और उस...</td>\n",
       "      <td>19</td>\n",
       "      <td>32</td>\n",
       "    </tr>\n",
       "  </tbody>\n",
       "</table>\n",
       "</div>"
      ],
      "text/plain": [
       "                                                        en  \\\n",
       "1593765  this division of the rigveda is most popular a...   \n",
       "1633986  governorgeneral dalhousie himself travelled to...   \n",
       "1125563  he cultivates fishes such as rohu catla bata m...   \n",
       "248358   and every time i called them that you may forg...   \n",
       "273933   but they cried him lies and hamstrung her so t...   \n",
       "\n",
       "                                                        hi  \\\n",
       "1593765  START_ start ऋग्वेद का यह मंडल सबसे लोकप्रिय औ...   \n",
       "1633986  START_ start गवर्नर जनरल डलहौज़ी ने हीरा प्राप्...   \n",
       "1125563  START_ start उन्होंतने अपने तालाब में रोहू काट...   \n",
       "248358   START_ start और जब भी मैंने उन्हें बुलाया ताकि...   \n",
       "273933   START_ start किन्तु उन्होंने उसे झुठलाया और उस...   \n",
       "\n",
       "         length_eng_sentence  length_hin_sentence  \n",
       "1593765                   32                   35  \n",
       "1633986                   17                   22  \n",
       "1125563                   20                   25  \n",
       "248358                    32                   44  \n",
       "273933                    19                   32  "
      ]
     },
     "execution_count": 10,
     "metadata": {},
     "output_type": "execute_result"
    }
   ],
   "source": [
    "train['en']=train['en'].apply(lambda x: x.lower())\n",
    "train['hi']=train['hi'].apply(lambda x: x.lower())\n",
    "train['en']=train['en'].apply(lambda x: re.sub(\"'\", '', x))\n",
    "train['hi']=train['hi'].apply(lambda x: re.sub(\"'\", '', x))\n",
    "exclude = set(string.punctuation) # Set of all special characters\n",
    "train['en']=train['en'].apply(lambda x: ''.join(ch for ch in x if ch not in exclude))\n",
    "train['hi']=train['hi'].apply(lambda x: ''.join(ch for ch in x if ch not in exclude))\n",
    "remove_digits = str.maketrans('', '', digits)\n",
    "train['en']=train['en'].apply(lambda x: x.translate(remove_digits))\n",
    "train['hi']=train['hi'].apply(lambda x: x.translate(remove_digits))\n",
    "train['hi'] = train['hi'].apply(lambda x: re.sub(\"[२३०८१५७९४६]\", \"\", x))\n",
    "train['en']=train['en'].apply(lambda x: x.strip())\n",
    "train['hi']=train['hi'].apply(lambda x: x.strip())\n",
    "train['en']=train['en'].apply(lambda x: re.sub(\" +\", \" \", x))\n",
    "train['hi']=train['hi'].apply(lambda x: re.sub(\" +\", \" \", x))\n",
    "train['hi'] = train['hi'].apply(lambda x : 'START_ '+ x + ' _END')\n",
    "train['length_eng_sentence']=train['en'].apply(lambda x:len(x.split(\" \")))\n",
    "train['length_hin_sentence']=train['hi'].apply(lambda x:len(x.split(\" \")))\n",
    "train.head()"
   ]
  },
  {
   "cell_type": "code",
   "execution_count": 13,
   "id": "18d43d93",
   "metadata": {},
   "outputs": [
    {
     "name": "stdout",
     "output_type": "stream",
     "text": [
      "maximum length of Hindi Sentence  180\n",
      "maximum length of English Sentence  157\n"
     ]
    },
    {
     "data": {
      "text/plain": [
       "(6282, 7255)"
      ]
     },
     "execution_count": 13,
     "metadata": {},
     "output_type": "execute_result"
    }
   ],
   "source": [
    "all_eng_words=set()\n",
    "for eng in train['en']:\n",
    "    for word in eng.split():\n",
    "        if word not in all_eng_words:\n",
    "            all_eng_words.add(word)\n",
    "\n",
    "all_hindi_words=set()\n",
    "for hin in train['hi']:\n",
    "    for word in hin.split():\n",
    "        if word not in all_hindi_words:\n",
    "            all_hindi_words.add(word)\n",
    "print(\"maximum length of Hindi Sentence \",max(train['length_hin_sentence']))\n",
    "print(\"maximum length of English Sentence \",max(train['length_eng_sentence']))\n",
    "len(all_eng_words), len(all_hindi_words)"
   ]
  },
  {
   "cell_type": "code",
   "execution_count": 15,
   "id": "bd7bb8ec",
   "metadata": {},
   "outputs": [],
   "source": [
    "max_length_src=max(train['length_hin_sentence'])\n",
    "max_length_tar=max(train['length_eng_sentence'])"
   ]
  },
  {
   "cell_type": "code",
   "execution_count": 17,
   "id": "4ed3873b",
   "metadata": {},
   "outputs": [
    {
     "data": {
      "text/plain": [
       "(6282, 7256)"
      ]
     },
     "execution_count": 17,
     "metadata": {},
     "output_type": "execute_result"
    }
   ],
   "source": [
    "input_words = sorted(list(all_eng_words))\n",
    "target_words = sorted(list(all_hindi_words))\n",
    "num_encoder_tokens = len(all_eng_words)\n",
    "num_decoder_tokens = len(all_hindi_words) + 1 # for padding\n",
    "num_encoder_tokens, num_decoder_tokens"
   ]
  },
  {
   "cell_type": "code",
   "execution_count": 18,
   "id": "cf3d8122",
   "metadata": {},
   "outputs": [],
   "source": [
    "input_token_index = dict([(word, i+1) for i, word in enumerate(input_words)])\n",
    "target_token_index = dict([(word, i+1) for i, word in enumerate(target_words)])\n",
    "reverse_input_char_index = dict((i, word) for word, i in input_token_index.items())\n",
    "reverse_target_char_index = dict((i, word) for word, i in target_token_index.items())"
   ]
  },
  {
   "cell_type": "code",
   "execution_count": 30,
   "id": "ed59d917",
   "metadata": {},
   "outputs": [],
   "source": [
    "X, Y = train['en'], train['hi']"
   ]
  },
  {
   "cell_type": "code",
   "execution_count": 31,
   "id": "4a81a9c5",
   "metadata": {},
   "outputs": [],
   "source": [
    "import tensorflow as tf\n",
    "from tensorflow.keras.models import Sequential\n",
    "from tensorflow.keras.layers import Embedding, LSTM, Dense\n",
    "from tensorflow.keras.preprocessing.text import Tokenizer\n",
    "from tensorflow.keras.preprocessing.sequence import pad_sequences\n",
    "\n",
    "tokenizer_eng = Tokenizer()\n",
    "tokenizer_eng.fit_on_texts(X.values)\n",
    "total_words_eng = len(tokenizer_eng.word_index) + 1\n",
    "\n",
    "tokenizer_hindi = Tokenizer()\n",
    "tokenizer_hindi.fit_on_texts(Y.values)\n",
    "total_words_hindi = len(tokenizer_hindi.word_index) + 1\n",
    "\n",
    "# Convert sentences to sequences\n",
    "X_seq = tokenizer_eng.texts_to_sequences(X.values)\n",
    "Y_seq = tokenizer_hindi.texts_to_sequences(Y.values)\n",
    "\n",
    "# Pad sequences for input data\n",
    "max_sequence_length = max(len(seq) for seq in X_seq + Y_seq)\n",
    "X_padded = pad_sequences(X_seq, maxlen=max_sequence_length, padding='post')\n",
    "Y_padded = pad_sequences(X_seq, maxlen=max_sequence_length, padding='post')"
   ]
  },
  {
   "cell_type": "code",
   "execution_count": 32,
   "id": "82313d47",
   "metadata": {},
   "outputs": [
    {
     "data": {
      "text/plain": [
       "((2000, 180), (2000, 180))"
      ]
     },
     "execution_count": 32,
     "metadata": {},
     "output_type": "execute_result"
    }
   ],
   "source": [
    "X_padded.shape, Y_padded.shape"
   ]
  },
  {
   "cell_type": "code",
   "execution_count": 33,
   "id": "0987cbf1",
   "metadata": {},
   "outputs": [
    {
     "data": {
      "text/plain": [
       "array([[  17,  548,    2, ...,    0,    0,    0],\n",
       "       [2299, 1352,  299, ...,    0,    0,    0],\n",
       "       [  13, 2302, 2303, ...,    0,    0,    0],\n",
       "       ...,\n",
       "       [6277,    0,    0, ...,    0,    0,    0],\n",
       "       [ 319,   14, 6278, ...,    0,    0,    0],\n",
       "       [6282,    0,    0, ...,    0,    0,    0]], dtype=int32)"
      ]
     },
     "execution_count": 33,
     "metadata": {},
     "output_type": "execute_result"
    }
   ],
   "source": [
    "X_padded"
   ]
  },
  {
   "cell_type": "code",
   "execution_count": 42,
   "id": "8af9a05a",
   "metadata": {},
   "outputs": [],
   "source": [
    "import matplotlib.pyplot as plt\n",
    "\n",
    "def plot_loss(history):\n",
    "    loss = history.history['loss']\n",
    "    epochs = range(1, len(loss) + 1)\n",
    "\n",
    "    plt.figure(figsize=(10, 5))\n",
    "    plt.plot(epochs, loss, 'b', label='Training Loss')\n",
    "    plt.title('Training Loss')\n",
    "    plt.xlabel('Epochs')\n",
    "    plt.ylabel('Loss')\n",
    "    plt.legend()\n",
    "    plt.show()\n"
   ]
  },
  {
   "cell_type": "code",
   "execution_count": 43,
   "id": "634f24c2",
   "metadata": {},
   "outputs": [
    {
     "name": "stdout",
     "output_type": "stream",
     "text": [
      "Epoch 1/10\n",
      "63/63 [==============================] - 2s 8ms/step - loss: -7809.7339\n",
      "Epoch 2/10\n",
      "63/63 [==============================] - 0s 8ms/step - loss: -22610.0605\n",
      "Epoch 3/10\n",
      "63/63 [==============================] - 0s 7ms/step - loss: -42687.9570\n",
      "Epoch 4/10\n",
      "63/63 [==============================] - 0s 7ms/step - loss: -72919.7031\n",
      "Epoch 5/10\n",
      "63/63 [==============================] - 0s 8ms/step - loss: -127239.8359\n",
      "Epoch 6/10\n",
      "63/63 [==============================] - 0s 7ms/step - loss: -218995.3438\n",
      "Epoch 7/10\n",
      "63/63 [==============================] - 0s 8ms/step - loss: -368882.2188\n",
      "Epoch 8/10\n",
      "63/63 [==============================] - 0s 8ms/step - loss: -643400.6875\n",
      "Epoch 9/10\n",
      "63/63 [==============================] - 0s 7ms/step - loss: -1044062.6875\n",
      "Epoch 10/10\n",
      "63/63 [==============================] - 0s 8ms/step - loss: -1593352.7500\n"
     ]
    },
    {
     "data": {
      "image/png": "[encoded data removed]",
      "text/plain": [
       "<Figure size 1000x500 with 1 Axes>"
      ]
     },
     "metadata": {},
     "output_type": "display_data"
    },
    {
     "name": "stdout",
     "output_type": "stream",
     "text": [
      "Epoch 1/10\n",
      "63/63 [==============================] - 2s 7ms/step - loss: -4614.7710\n",
      "Epoch 2/10\n",
      "63/63 [==============================] - 0s 7ms/step - loss: -17833.7344\n",
      "Epoch 3/10\n",
      "63/63 [==============================] - 0s 8ms/step - loss: -35135.4375\n",
      "Epoch 4/10\n",
      "63/63 [==============================] - 0s 8ms/step - loss: -61493.3672\n",
      "Epoch 5/10\n",
      "63/63 [==============================] - 0s 7ms/step - loss: -102911.5078\n",
      "Epoch 6/10\n",
      "63/63 [==============================] - 0s 7ms/step - loss: -181743.7188\n",
      "Epoch 7/10\n",
      "63/63 [==============================] - 0s 7ms/step - loss: -321900.5312\n",
      "Epoch 8/10\n",
      "63/63 [==============================] - 0s 8ms/step - loss: -564082.5625\n",
      "Epoch 9/10\n",
      "63/63 [==============================] - 0s 7ms/step - loss: -938245.7500\n",
      "Epoch 10/10\n",
      "63/63 [==============================] - 0s 7ms/step - loss: -1510591.0000\n"
     ]
    },
    {
     "data": {
      "image/png": "[encoded data removed]",
      "text/plain": [
       "<Figure size 1000x500 with 1 Axes>"
      ]
     },
     "metadata": {},
     "output_type": "display_data"
    }
   ],
   "source": [
    "import tensorflow as tf\n",
    "from tensorflow.keras.layers import Input, Dense, Lambda, BatchNormalization\n",
    "from tensorflow.keras.models import Model\n",
    "from tensorflow.keras import backend as K\n",
    "from tensorflow.keras.losses import binary_crossentropy\n",
    "from tensorflow.keras.optimizers import Adam\n",
    "import numpy as np\n",
    "\n",
    "# Function to build the continuous VAE model\n",
    "def build_continuous_vae(input_dim, latent_dim):\n",
    "    inputs = Input(shape=(input_dim,))\n",
    "    x = Dense(256, activation='relu')(inputs)\n",
    "    x = BatchNormalization()(x)\n",
    "    x = Dense(128, activation='relu')(x)\n",
    "    x = BatchNormalization()(x)\n",
    "\n",
    "    z_mean = Dense(latent_dim)(x)\n",
    "    z_log_var = Dense(latent_dim)(x)\n",
    "\n",
    "    def sampling(args):\n",
    "        z_mean, z_log_var = args\n",
    "        batch = K.shape(z_mean)[0]\n",
    "        dim = K.int_shape(z_mean)[1]\n",
    "        epsilon = K.random_normal(shape=(batch, dim))\n",
    "        return z_mean + K.exp(0.5 * z_log_var) * epsilon\n",
    "\n",
    "    z = Lambda(sampling, output_shape=(latent_dim,))([z_mean, z_log_var])\n",
    "\n",
    "    decoder_h = Dense(128, activation='relu')\n",
    "    decoder_mean = Dense(input_dim, activation='sigmoid')\n",
    "\n",
    "    h_decoded = decoder_h(z)\n",
    "    x_decoded_mean = decoder_mean(h_decoded)\n",
    "\n",
    "    xent_loss = input_dim * binary_crossentropy(inputs, x_decoded_mean)\n",
    "    kl_loss = -0.5 * K.sum(1 + z_log_var - K.square(z_mean) - K.exp(z_log_var), axis=-1)\n",
    "    vae_loss = K.mean(xent_loss + kl_loss)\n",
    "\n",
    "    vae = Model(inputs, x_decoded_mean)\n",
    "    vae.add_loss(vae_loss)\n",
    "    clip_value = 0.5  \n",
    "    optimizer = Adam(learning_rate=0.0001, clipvalue=clip_value)\n",
    "    vae.compile(optimizer=optimizer)\n",
    "\n",
    "    return vae\n",
    "\n",
    "latent_dim = 100  \n",
    "input_dim = X_padded.shape[1]\n",
    "\n",
    "continuous_vae_english = build_continuous_vae(input_dim, latent_dim)\n",
    "plot_loss(continuous_vae_english.fit(X_padded, X_padded, epochs=10, batch_size=32))\n",
    "\n",
    "input_dim = Y_padded.shape[1]\n",
    "\n",
    "continuous_vae_hindi = build_continuous_vae(input_dim, latent_dim)\n",
    "plot_loss(continuous_vae_hindi.fit(Y_padded, Y_padded, epochs=10, batch_size=32))"
   ]
  },
  {
   "cell_type": "code",
   "execution_count": 51,
   "id": "f4e3c579",
   "metadata": {
    "scrolled": false
   },
   "outputs": [
    {
     "name": "stdout",
     "output_type": "stream",
     "text": [
      "Epoch 1/10\n",
      "WARNING:tensorflow:Gradients do not exist for variables ['dense_102/kernel:0', 'dense_102/bias:0', 'dense_103/kernel:0', 'dense_103/bias:0', 'dense_104/kernel:0', 'dense_104/bias:0'] when minimizing the loss. If you're using `model.compile()`, did you forget to provide a `loss` argument?\n"
     ]
    },
    {
     "name": "stderr",
     "output_type": "stream",
     "text": [
      "WARNING:tensorflow:Gradients do not exist for variables ['dense_102/kernel:0', 'dense_102/bias:0', 'dense_103/kernel:0', 'dense_103/bias:0', 'dense_104/kernel:0', 'dense_104/bias:0'] when minimizing the loss. If you're using `model.compile()`, did you forget to provide a `loss` argument?\n"
     ]
    },
    {
     "name": "stdout",
     "output_type": "stream",
     "text": [
      "WARNING:tensorflow:Gradients do not exist for variables ['dense_102/kernel:0', 'dense_102/bias:0', 'dense_103/kernel:0', 'dense_103/bias:0', 'dense_104/kernel:0', 'dense_104/bias:0'] when minimizing the loss. If you're using `model.compile()`, did you forget to provide a `loss` argument?\n"
     ]
    },
    {
     "name": "stderr",
     "output_type": "stream",
     "text": [
      "WARNING:tensorflow:Gradients do not exist for variables ['dense_102/kernel:0', 'dense_102/bias:0', 'dense_103/kernel:0', 'dense_103/bias:0', 'dense_104/kernel:0', 'dense_104/bias:0'] when minimizing the loss. If you're using `model.compile()`, did you forget to provide a `loss` argument?\n"
     ]
    },
    {
     "name": "stdout",
     "output_type": "stream",
     "text": [
      "WARNING:tensorflow:Gradients do not exist for variables ['dense_102/kernel:0', 'dense_102/bias:0', 'dense_103/kernel:0', 'dense_103/bias:0', 'dense_104/kernel:0', 'dense_104/bias:0'] when minimizing the loss. If you're using `model.compile()`, did you forget to provide a `loss` argument?\n"
     ]
    },
    {
     "name": "stderr",
     "output_type": "stream",
     "text": [
      "WARNING:tensorflow:Gradients do not exist for variables ['dense_102/kernel:0', 'dense_102/bias:0', 'dense_103/kernel:0', 'dense_103/bias:0', 'dense_104/kernel:0', 'dense_104/bias:0'] when minimizing the loss. If you're using `model.compile()`, did you forget to provide a `loss` argument?\n"
     ]
    },
    {
     "name": "stdout",
     "output_type": "stream",
     "text": [
      "WARNING:tensorflow:Gradients do not exist for variables ['dense_102/kernel:0', 'dense_102/bias:0', 'dense_103/kernel:0', 'dense_103/bias:0', 'dense_104/kernel:0', 'dense_104/bias:0'] when minimizing the loss. If you're using `model.compile()`, did you forget to provide a `loss` argument?\n"
     ]
    },
    {
     "name": "stderr",
     "output_type": "stream",
     "text": [
      "WARNING:tensorflow:Gradients do not exist for variables ['dense_102/kernel:0', 'dense_102/bias:0', 'dense_103/kernel:0', 'dense_103/bias:0', 'dense_104/kernel:0', 'dense_104/bias:0'] when minimizing the loss. If you're using `model.compile()`, did you forget to provide a `loss` argument?\n"
     ]
    },
    {
     "name": "stdout",
     "output_type": "stream",
     "text": [
      "63/63 [==============================] - 2s 13ms/step - loss: 11481803.0000\n",
      "Epoch 2/10\n",
      "63/63 [==============================] - 0s 5ms/step - loss: 11325049.0000\n",
      "Epoch 3/10\n",
      "63/63 [==============================] - 0s 5ms/step - loss: 10979578.0000\n",
      "Epoch 4/10\n",
      "63/63 [==============================] - 0s 5ms/step - loss: 10359009.0000\n",
      "Epoch 5/10\n",
      "63/63 [==============================] - 0s 6ms/step - loss: 9496013.0000\n",
      "Epoch 6/10\n",
      "63/63 [==============================] - 0s 5ms/step - loss: 8667692.0000\n",
      "Epoch 7/10\n",
      "63/63 [==============================] - 0s 5ms/step - loss: 8144991.5000\n",
      "Epoch 8/10\n",
      "63/63 [==============================] - 0s 5ms/step - loss: 7984006.0000\n",
      "Epoch 9/10\n",
      "63/63 [==============================] - 0s 6ms/step - loss: 8181223.0000\n",
      "Epoch 10/10\n",
      "63/63 [==============================] - 0s 5ms/step - loss: 8675032.0000\n"
     ]
    },
    {
     "data": {
      "image/png": "[encoded data removed]",
      "text/plain": [
       "<Figure size 1000x500 with 1 Axes>"
      ]
     },
     "metadata": {},
     "output_type": "display_data"
    },
    {
     "name": "stdout",
     "output_type": "stream",
     "text": [
      "Epoch 1/10\n",
      "WARNING:tensorflow:Gradients do not exist for variables ['dense_108/kernel:0', 'dense_108/bias:0', 'dense_109/kernel:0', 'dense_109/bias:0', 'dense_110/kernel:0', 'dense_110/bias:0'] when minimizing the loss. If you're using `model.compile()`, did you forget to provide a `loss` argument?\n"
     ]
    },
    {
     "name": "stderr",
     "output_type": "stream",
     "text": [
      "WARNING:tensorflow:Gradients do not exist for variables ['dense_108/kernel:0', 'dense_108/bias:0', 'dense_109/kernel:0', 'dense_109/bias:0', 'dense_110/kernel:0', 'dense_110/bias:0'] when minimizing the loss. If you're using `model.compile()`, did you forget to provide a `loss` argument?\n"
     ]
    },
    {
     "name": "stdout",
     "output_type": "stream",
     "text": [
      "WARNING:tensorflow:Gradients do not exist for variables ['dense_108/kernel:0', 'dense_108/bias:0', 'dense_109/kernel:0', 'dense_109/bias:0', 'dense_110/kernel:0', 'dense_110/bias:0'] when minimizing the loss. If you're using `model.compile()`, did you forget to provide a `loss` argument?\n"
     ]
    },
    {
     "name": "stderr",
     "output_type": "stream",
     "text": [
      "WARNING:tensorflow:Gradients do not exist for variables ['dense_108/kernel:0', 'dense_108/bias:0', 'dense_109/kernel:0', 'dense_109/bias:0', 'dense_110/kernel:0', 'dense_110/bias:0'] when minimizing the loss. If you're using `model.compile()`, did you forget to provide a `loss` argument?\n"
     ]
    },
    {
     "name": "stdout",
     "output_type": "stream",
     "text": [
      "WARNING:tensorflow:Gradients do not exist for variables ['dense_108/kernel:0', 'dense_108/bias:0', 'dense_109/kernel:0', 'dense_109/bias:0', 'dense_110/kernel:0', 'dense_110/bias:0'] when minimizing the loss. If you're using `model.compile()`, did you forget to provide a `loss` argument?\n"
     ]
    },
    {
     "name": "stderr",
     "output_type": "stream",
     "text": [
      "WARNING:tensorflow:Gradients do not exist for variables ['dense_108/kernel:0', 'dense_108/bias:0', 'dense_109/kernel:0', 'dense_109/bias:0', 'dense_110/kernel:0', 'dense_110/bias:0'] when minimizing the loss. If you're using `model.compile()`, did you forget to provide a `loss` argument?\n"
     ]
    },
    {
     "name": "stdout",
     "output_type": "stream",
     "text": [
      "WARNING:tensorflow:Gradients do not exist for variables ['dense_108/kernel:0', 'dense_108/bias:0', 'dense_109/kernel:0', 'dense_109/bias:0', 'dense_110/kernel:0', 'dense_110/bias:0'] when minimizing the loss. If you're using `model.compile()`, did you forget to provide a `loss` argument?\n"
     ]
    },
    {
     "name": "stderr",
     "output_type": "stream",
     "text": [
      "WARNING:tensorflow:Gradients do not exist for variables ['dense_108/kernel:0', 'dense_108/bias:0', 'dense_109/kernel:0', 'dense_109/bias:0', 'dense_110/kernel:0', 'dense_110/bias:0'] when minimizing the loss. If you're using `model.compile()`, did you forget to provide a `loss` argument?\n"
     ]
    },
    {
     "name": "stdout",
     "output_type": "stream",
     "text": [
      "63/63 [==============================] - 2s 15ms/step - loss: 11474650.0000\n",
      "Epoch 2/10\n",
      "63/63 [==============================] - 0s 6ms/step - loss: 11319710.0000\n",
      "Epoch 3/10\n",
      "63/63 [==============================] - 0s 5ms/step - loss: 10961284.0000\n",
      "Epoch 4/10\n",
      "63/63 [==============================] - 0s 5ms/step - loss: 10310402.0000\n",
      "Epoch 5/10\n",
      "63/63 [==============================] - 0s 5ms/step - loss: 9407169.0000\n",
      "Epoch 6/10\n",
      "63/63 [==============================] - 0s 5ms/step - loss: 8596266.0000\n",
      "Epoch 7/10\n",
      "63/63 [==============================] - 0s 5ms/step - loss: 8164203.0000\n",
      "Epoch 8/10\n",
      "63/63 [==============================] - 0s 5ms/step - loss: 8170554.0000\n",
      "Epoch 9/10\n",
      "63/63 [==============================] - 0s 5ms/step - loss: 8588739.0000\n",
      "Epoch 10/10\n",
      "63/63 [==============================] - 0s 5ms/step - loss: 9460262.0000\n"
     ]
    },
    {
     "data": {
      "image/png": "[encoded data removed]",
      "text/plain": [
       "<Figure size 1000x500 with 1 Axes>"
      ]
     },
     "metadata": {},
     "output_type": "display_data"
    }
   ],
   "source": [
    "import tensorflow as tf\n",
    "from tensorflow.keras.layers import Input, Embedding, Flatten, Reshape, Dense, Lambda\n",
    "from tensorflow.keras.models import Model\n",
    "from tensorflow.keras import backend as K\n",
    "from tensorflow.keras.losses import categorical_crossentropy\n",
    "from tensorflow.keras.optimizers import Adam\n",
    "import numpy as np\n",
    "\n",
    "def build_discrete_vq_vae(input_dim, codebook_size, embedding_dim):\n",
    "    inputs = Input(shape=(input_dim,))\n",
    "    encoder = Dense(256, activation='relu')(inputs)\n",
    "    encoder = Dense(128, activation='relu')(encoder)\n",
    "\n",
    "    z_e = Dense(embedding_dim)(encoder)\n",
    "    z_q = Embedding(codebook_size, embedding_dim)(K.argmax(z_e, axis=-1))\n",
    "\n",
    "    decoder = Dense(128, activation='relu')(z_q)\n",
    "    decoder = Dense(256, activation='relu')(decoder)\n",
    "    outputs = Dense(input_dim, activation='sigmoid')(decoder)\n",
    "\n",
    "    commitment_loss = 0.1  # Adjust based on experimentation\n",
    "    quantization_loss = commitment_loss * K.mean((K.stop_gradient(z_e) - z_q) ** 2)\n",
    "\n",
    "    recon_loss = input_dim * categorical_crossentropy(inputs, outputs)\n",
    "\n",
    "    vq_vae_loss = recon_loss + quantization_loss\n",
    "\n",
    "    clip_value = 0.5  \n",
    "    optimizer = Adam(learning_rate=0.0001, clipvalue=clip_value) # Reduce the learning rate\n",
    "    vq_vae = Model(inputs, outputs)\n",
    "    vq_vae.add_loss(vq_vae_loss)\n",
    "    vq_vae.compile(optimizer=optimizer)\n",
    "\n",
    "    return vq_vae\n",
    "\n",
    "codebook_size = 32  \n",
    "embedding_dim = 64  \n",
    "input_dim = X_padded.shape[1]\n",
    "\n",
    "discrete_vq_vae_english = build_discrete_vq_vae(input_dim, codebook_size, embedding_dim)\n",
    "plot_loss(discrete_vq_vae_english.fit(X_padded, X_padded, epochs=10, batch_size=32))\n",
    "\n",
    "input_dim = Y_padded.shape[1]\n",
    "\n",
    "discrete_vq_vae_hindi = build_discrete_vq_vae(input_dim, codebook_size, embedding_dim)\n",
    "plot_loss(discrete_vq_vae_hindi.fit(Y_padded, Y_padded, epochs=10, batch_size=32))\n"
   ]
  },
  {
   "cell_type": "code",
   "execution_count": 53,
   "id": "1e6ececa",
   "metadata": {
    "scrolled": false
   },
   "outputs": [
    {
     "name": "stdout",
     "output_type": "stream",
     "text": [
      "Epoch 1/10\n",
      "63/63 [==============================] - 2s 7ms/step - loss: -6712.9229\n",
      "Epoch 2/10\n",
      "63/63 [==============================] - 0s 8ms/step - loss: -19859.8320\n",
      "Epoch 3/10\n",
      "63/63 [==============================] - 0s 7ms/step - loss: -37269.7383\n",
      "Epoch 4/10\n",
      "63/63 [==============================] - 0s 8ms/step - loss: -62847.4375\n",
      "Epoch 5/10\n",
      "63/63 [==============================] - 0s 7ms/step - loss: -104820.8750\n",
      "Epoch 6/10\n",
      "63/63 [==============================] - 1s 8ms/step - loss: -179039.1406\n",
      "Epoch 7/10\n",
      "63/63 [==============================] - 0s 8ms/step - loss: -309261.7188\n",
      "Epoch 8/10\n",
      "63/63 [==============================] - 0s 8ms/step - loss: -533612.8750\n",
      "Epoch 9/10\n",
      "63/63 [==============================] - 0s 8ms/step - loss: -940619.8750\n",
      "Epoch 10/10\n",
      "63/63 [==============================] - 0s 8ms/step - loss: -1456130.1250\n",
      "Epoch 1/10\n",
      "63/63 [==============================] - 2s 8ms/step - loss: -6400.8564\n",
      "Epoch 2/10\n",
      "63/63 [==============================] - 0s 7ms/step - loss: -21072.1172\n",
      "Epoch 3/10\n",
      "63/63 [==============================] - 0s 7ms/step - loss: -42546.6523\n",
      "Epoch 4/10\n",
      "63/63 [==============================] - 0s 7ms/step - loss: -79380.1016\n",
      "Epoch 5/10\n",
      "63/63 [==============================] - 0s 8ms/step - loss: -154865.0625\n",
      "Epoch 6/10\n",
      "63/63 [==============================] - 0s 7ms/step - loss: -292191.5938\n",
      "Epoch 7/10\n",
      "63/63 [==============================] - 0s 7ms/step - loss: -533107.3750\n",
      "Epoch 8/10\n",
      "63/63 [==============================] - 0s 8ms/step - loss: -1110407.2500\n",
      "Epoch 9/10\n",
      "63/63 [==============================] - 0s 8ms/step - loss: -1278688.5000\n",
      "Epoch 10/10\n",
      "63/63 [==============================] - 0s 8ms/step - loss: -1906168.0000\n",
      "63/63 [==============================] - 0s 3ms/step\n",
      "63/63 [==============================] - 0s 3ms/step\n",
      "Epoch 1/10\n",
      "WARNING:tensorflow:Gradients do not exist for variables ['dense_152/kernel:0', 'dense_152/bias:0', 'dense_153/kernel:0', 'dense_153/bias:0', 'dense_154/kernel:0', 'dense_154/bias:0'] when minimizing the loss. If you're using `model.compile()`, did you forget to provide a `loss` argument?\n"
     ]
    },
    {
     "name": "stderr",
     "output_type": "stream",
     "text": [
      "WARNING:tensorflow:Gradients do not exist for variables ['dense_152/kernel:0', 'dense_152/bias:0', 'dense_153/kernel:0', 'dense_153/bias:0', 'dense_154/kernel:0', 'dense_154/bias:0'] when minimizing the loss. If you're using `model.compile()`, did you forget to provide a `loss` argument?\n"
     ]
    },
    {
     "name": "stdout",
     "output_type": "stream",
     "text": [
      "WARNING:tensorflow:Gradients do not exist for variables ['dense_152/kernel:0', 'dense_152/bias:0', 'dense_153/kernel:0', 'dense_153/bias:0', 'dense_154/kernel:0', 'dense_154/bias:0'] when minimizing the loss. If you're using `model.compile()`, did you forget to provide a `loss` argument?\n"
     ]
    },
    {
     "name": "stderr",
     "output_type": "stream",
     "text": [
      "WARNING:tensorflow:Gradients do not exist for variables ['dense_152/kernel:0', 'dense_152/bias:0', 'dense_153/kernel:0', 'dense_153/bias:0', 'dense_154/kernel:0', 'dense_154/bias:0'] when minimizing the loss. If you're using `model.compile()`, did you forget to provide a `loss` argument?\n"
     ]
    },
    {
     "name": "stdout",
     "output_type": "stream",
     "text": [
      "WARNING:tensorflow:Gradients do not exist for variables ['dense_152/kernel:0', 'dense_152/bias:0', 'dense_153/kernel:0', 'dense_153/bias:0', 'dense_154/kernel:0', 'dense_154/bias:0'] when minimizing the loss. If you're using `model.compile()`, did you forget to provide a `loss` argument?\n"
     ]
    },
    {
     "name": "stderr",
     "output_type": "stream",
     "text": [
      "WARNING:tensorflow:Gradients do not exist for variables ['dense_152/kernel:0', 'dense_152/bias:0', 'dense_153/kernel:0', 'dense_153/bias:0', 'dense_154/kernel:0', 'dense_154/bias:0'] when minimizing the loss. If you're using `model.compile()`, did you forget to provide a `loss` argument?\n"
     ]
    },
    {
     "name": "stdout",
     "output_type": "stream",
     "text": [
      "WARNING:tensorflow:Gradients do not exist for variables ['dense_152/kernel:0', 'dense_152/bias:0', 'dense_153/kernel:0', 'dense_153/bias:0', 'dense_154/kernel:0', 'dense_154/bias:0'] when minimizing the loss. If you're using `model.compile()`, did you forget to provide a `loss` argument?\n"
     ]
    },
    {
     "name": "stderr",
     "output_type": "stream",
     "text": [
      "WARNING:tensorflow:Gradients do not exist for variables ['dense_152/kernel:0', 'dense_152/bias:0', 'dense_153/kernel:0', 'dense_153/bias:0', 'dense_154/kernel:0', 'dense_154/bias:0'] when minimizing the loss. If you're using `model.compile()`, did you forget to provide a `loss` argument?\n"
     ]
    },
    {
     "name": "stdout",
     "output_type": "stream",
     "text": [
      "63/63 [==============================] - 2s 14ms/step - loss: 11457928.0000\n",
      "Epoch 2/10\n",
      "63/63 [==============================] - 0s 5ms/step - loss: 11213950.0000\n",
      "Epoch 3/10\n",
      "63/63 [==============================] - 0s 5ms/step - loss: 10658385.0000\n",
      "Epoch 4/10\n",
      "63/63 [==============================] - 0s 5ms/step - loss: 9689431.0000\n",
      "Epoch 5/10\n",
      "63/63 [==============================] - 0s 6ms/step - loss: 8655623.0000\n",
      "Epoch 6/10\n",
      "63/63 [==============================] - 0s 5ms/step - loss: 8121774.5000\n",
      "Epoch 7/10\n",
      "63/63 [==============================] - 0s 5ms/step - loss: 8068704.5000\n",
      "Epoch 8/10\n",
      "63/63 [==============================] - 0s 5ms/step - loss: 8557841.0000\n",
      "Epoch 9/10\n",
      "63/63 [==============================] - 0s 5ms/step - loss: 9423337.0000\n",
      "Epoch 10/10\n",
      "63/63 [==============================] - 0s 5ms/step - loss: 10896840.0000\n",
      "Epoch 1/10\n",
      "WARNING:tensorflow:Gradients do not exist for variables ['dense_158/kernel:0', 'dense_158/bias:0', 'dense_159/kernel:0', 'dense_159/bias:0', 'dense_160/kernel:0', 'dense_160/bias:0'] when minimizing the loss. If you're using `model.compile()`, did you forget to provide a `loss` argument?\n"
     ]
    },
    {
     "name": "stderr",
     "output_type": "stream",
     "text": [
      "WARNING:tensorflow:Gradients do not exist for variables ['dense_158/kernel:0', 'dense_158/bias:0', 'dense_159/kernel:0', 'dense_159/bias:0', 'dense_160/kernel:0', 'dense_160/bias:0'] when minimizing the loss. If you're using `model.compile()`, did you forget to provide a `loss` argument?\n"
     ]
    },
    {
     "name": "stdout",
     "output_type": "stream",
     "text": [
      "WARNING:tensorflow:Gradients do not exist for variables ['dense_158/kernel:0', 'dense_158/bias:0', 'dense_159/kernel:0', 'dense_159/bias:0', 'dense_160/kernel:0', 'dense_160/bias:0'] when minimizing the loss. If you're using `model.compile()`, did you forget to provide a `loss` argument?\n"
     ]
    },
    {
     "name": "stderr",
     "output_type": "stream",
     "text": [
      "WARNING:tensorflow:Gradients do not exist for variables ['dense_158/kernel:0', 'dense_158/bias:0', 'dense_159/kernel:0', 'dense_159/bias:0', 'dense_160/kernel:0', 'dense_160/bias:0'] when minimizing the loss. If you're using `model.compile()`, did you forget to provide a `loss` argument?\n"
     ]
    },
    {
     "name": "stdout",
     "output_type": "stream",
     "text": [
      "WARNING:tensorflow:Gradients do not exist for variables ['dense_158/kernel:0', 'dense_158/bias:0', 'dense_159/kernel:0', 'dense_159/bias:0', 'dense_160/kernel:0', 'dense_160/bias:0'] when minimizing the loss. If you're using `model.compile()`, did you forget to provide a `loss` argument?\n"
     ]
    },
    {
     "name": "stderr",
     "output_type": "stream",
     "text": [
      "WARNING:tensorflow:Gradients do not exist for variables ['dense_158/kernel:0', 'dense_158/bias:0', 'dense_159/kernel:0', 'dense_159/bias:0', 'dense_160/kernel:0', 'dense_160/bias:0'] when minimizing the loss. If you're using `model.compile()`, did you forget to provide a `loss` argument?\n"
     ]
    },
    {
     "name": "stdout",
     "output_type": "stream",
     "text": [
      "WARNING:tensorflow:Gradients do not exist for variables ['dense_158/kernel:0', 'dense_158/bias:0', 'dense_159/kernel:0', 'dense_159/bias:0', 'dense_160/kernel:0', 'dense_160/bias:0'] when minimizing the loss. If you're using `model.compile()`, did you forget to provide a `loss` argument?\n"
     ]
    },
    {
     "name": "stderr",
     "output_type": "stream",
     "text": [
      "WARNING:tensorflow:Gradients do not exist for variables ['dense_158/kernel:0', 'dense_158/bias:0', 'dense_159/kernel:0', 'dense_159/bias:0', 'dense_160/kernel:0', 'dense_160/bias:0'] when minimizing the loss. If you're using `model.compile()`, did you forget to provide a `loss` argument?\n"
     ]
    },
    {
     "name": "stdout",
     "output_type": "stream",
     "text": [
      "63/63 [==============================] - 2s 15ms/step - loss: 11481925.0000\n",
      "Epoch 2/10\n",
      "63/63 [==============================] - 0s 6ms/step - loss: 11342473.0000\n",
      "Epoch 3/10\n",
      "63/63 [==============================] - 0s 6ms/step - loss: 11044596.0000\n",
      "Epoch 4/10\n",
      "63/63 [==============================] - 0s 5ms/step - loss: 10491149.0000\n",
      "Epoch 5/10\n",
      "63/63 [==============================] - 0s 5ms/step - loss: 9679245.0000\n",
      "Epoch 6/10\n",
      "63/63 [==============================] - 0s 5ms/step - loss: 8829127.0000\n",
      "Epoch 7/10\n",
      "63/63 [==============================] - 0s 5ms/step - loss: 8266283.5000\n",
      "Epoch 8/10\n",
      "63/63 [==============================] - 2s 28ms/step - loss: 8070128.0000\n",
      "Epoch 9/10\n",
      "63/63 [==============================] - 0s 5ms/step - loss: 8259655.0000\n",
      "Epoch 10/10\n",
      "63/63 [==============================] - 0s 5ms/step - loss: 8765084.0000\n",
      "Epoch 1/10\n"
     ]
    },
    {
     "ename": "ValueError",
     "evalue": "in user code:\n\n    File \"/home/imroze/Vaibhav/miniconda/envs/vae/lib/python3.10/site-packages/keras/src/engine/training.py\", line 1377, in train_function  *\n        return step_function(self, iterator)\n    File \"/home/imroze/Vaibhav/miniconda/envs/vae/lib/python3.10/site-packages/keras/src/engine/training.py\", line 1360, in step_function  **\n        outputs = model.distribute_strategy.run(run_step, args=(data,))\n    File \"/home/imroze/Vaibhav/miniconda/envs/vae/lib/python3.10/site-packages/keras/src/engine/training.py\", line 1349, in run_step  **\n        outputs = model.train_step(data)\n    File \"/home/imroze/Vaibhav/miniconda/envs/vae/lib/python3.10/site-packages/keras/src/engine/training.py\", line 1126, in train_step\n        y_pred = self(x, training=True)\n    File \"/home/imroze/Vaibhav/miniconda/envs/vae/lib/python3.10/site-packages/keras/src/utils/traceback_utils.py\", line 70, in error_handler\n        raise e.with_traceback(filtered_tb) from None\n    File \"/home/imroze/Vaibhav/miniconda/envs/vae/lib/python3.10/site-packages/keras/src/engine/input_spec.py\", line 298, in assert_input_compatibility\n        raise ValueError(\n\n    ValueError: Input 0 of layer \"model_28\" is incompatible with the layer: expected shape=(None, 100), found shape=(None, 180)\n",
     "output_type": "error",
     "traceback": [
      "\u001b[0;31m---------------------------------------------------------------------------\u001b[0m",
      "\u001b[0;31mValueError\u001b[0m                                Traceback (most recent call last)",
      "Cell \u001b[0;32mIn[53], line 60\u001b[0m\n\u001b[1;32m     57\u001b[0m shared_encoder\u001b[38;5;241m.\u001b[39mcompile(optimizer\u001b[38;5;241m=\u001b[39mAdam(learning_rate\u001b[38;5;241m=\u001b[39m\u001b[38;5;241m0.0001\u001b[39m), loss\u001b[38;5;241m=\u001b[39m\u001b[38;5;124m'\u001b[39m\u001b[38;5;124mmse\u001b[39m\u001b[38;5;124m'\u001b[39m)\n\u001b[1;32m     59\u001b[0m \u001b[38;5;66;03m# Train shared encoder on continuous representations\u001b[39;00m\n\u001b[0;32m---> 60\u001b[0m \u001b[43mshared_encoder\u001b[49m\u001b[38;5;241;43m.\u001b[39;49m\u001b[43mfit\u001b[49m\u001b[43m(\u001b[49m\u001b[43mcontinuous_rep_english\u001b[49m\u001b[43m,\u001b[49m\u001b[43m \u001b[49m\u001b[43mcontinuous_rep_hindi\u001b[49m\u001b[43m,\u001b[49m\u001b[43m \u001b[49m\u001b[43mepochs\u001b[49m\u001b[38;5;241;43m=\u001b[39;49m\u001b[38;5;241;43m10\u001b[39;49m\u001b[43m,\u001b[49m\u001b[43m \u001b[49m\u001b[43mbatch_size\u001b[49m\u001b[38;5;241;43m=\u001b[39;49m\u001b[38;5;241;43m32\u001b[39;49m\u001b[43m)\u001b[49m\n\u001b[1;32m     62\u001b[0m \u001b[38;5;66;03m# Function to build the Adversarial Model\u001b[39;00m\n\u001b[1;32m     63\u001b[0m \u001b[38;5;28;01mdef\u001b[39;00m \u001b[38;5;21mbuild_adversarial_model\u001b[39m(shared_encoder, discriminator):\n",
      "File \u001b[0;32m~/Vaibhav/miniconda/envs/vae/lib/python3.10/site-packages/keras/src/utils/traceback_utils.py:70\u001b[0m, in \u001b[0;36mfilter_traceback.<locals>.error_handler\u001b[0;34m(*args, **kwargs)\u001b[0m\n\u001b[1;32m     67\u001b[0m     filtered_tb \u001b[38;5;241m=\u001b[39m _process_traceback_frames(e\u001b[38;5;241m.\u001b[39m__traceback__)\n\u001b[1;32m     68\u001b[0m     \u001b[38;5;66;03m# To get the full stack trace, call:\u001b[39;00m\n\u001b[1;32m     69\u001b[0m     \u001b[38;5;66;03m# `tf.debugging.disable_traceback_filtering()`\u001b[39;00m\n\u001b[0;32m---> 70\u001b[0m     \u001b[38;5;28;01mraise\u001b[39;00m e\u001b[38;5;241m.\u001b[39mwith_traceback(filtered_tb) \u001b[38;5;28;01mfrom\u001b[39;00m \u001b[38;5;28;01mNone\u001b[39;00m\n\u001b[1;32m     71\u001b[0m \u001b[38;5;28;01mfinally\u001b[39;00m:\n\u001b[1;32m     72\u001b[0m     \u001b[38;5;28;01mdel\u001b[39;00m filtered_tb\n",
      "File \u001b[0;32m/tmp/__autograph_generated_filehr_jd_ym.py:15\u001b[0m, in \u001b[0;36mouter_factory.<locals>.inner_factory.<locals>.tf__train_function\u001b[0;34m(iterator)\u001b[0m\n\u001b[1;32m     13\u001b[0m \u001b[38;5;28;01mtry\u001b[39;00m:\n\u001b[1;32m     14\u001b[0m     do_return \u001b[38;5;241m=\u001b[39m \u001b[38;5;28;01mTrue\u001b[39;00m\n\u001b[0;32m---> 15\u001b[0m     retval_ \u001b[38;5;241m=\u001b[39m ag__\u001b[38;5;241m.\u001b[39mconverted_call(ag__\u001b[38;5;241m.\u001b[39mld(step_function), (ag__\u001b[38;5;241m.\u001b[39mld(\u001b[38;5;28mself\u001b[39m), ag__\u001b[38;5;241m.\u001b[39mld(iterator)), \u001b[38;5;28;01mNone\u001b[39;00m, fscope)\n\u001b[1;32m     16\u001b[0m \u001b[38;5;28;01mexcept\u001b[39;00m:\n\u001b[1;32m     17\u001b[0m     do_return \u001b[38;5;241m=\u001b[39m \u001b[38;5;28;01mFalse\u001b[39;00m\n",
      "\u001b[0;31mValueError\u001b[0m: in user code:\n\n    File \"/home/imroze/Vaibhav/miniconda/envs/vae/lib/python3.10/site-packages/keras/src/engine/training.py\", line 1377, in train_function  *\n        return step_function(self, iterator)\n    File \"/home/imroze/Vaibhav/miniconda/envs/vae/lib/python3.10/site-packages/keras/src/engine/training.py\", line 1360, in step_function  **\n        outputs = model.distribute_strategy.run(run_step, args=(data,))\n    File \"/home/imroze/Vaibhav/miniconda/envs/vae/lib/python3.10/site-packages/keras/src/engine/training.py\", line 1349, in run_step  **\n        outputs = model.train_step(data)\n    File \"/home/imroze/Vaibhav/miniconda/envs/vae/lib/python3.10/site-packages/keras/src/engine/training.py\", line 1126, in train_step\n        y_pred = self(x, training=True)\n    File \"/home/imroze/Vaibhav/miniconda/envs/vae/lib/python3.10/site-packages/keras/src/utils/traceback_utils.py\", line 70, in error_handler\n        raise e.with_traceback(filtered_tb) from None\n    File \"/home/imroze/Vaibhav/miniconda/envs/vae/lib/python3.10/site-packages/keras/src/engine/input_spec.py\", line 298, in assert_input_compatibility\n        raise ValueError(\n\n    ValueError: Input 0 of layer \"model_28\" is incompatible with the layer: expected shape=(None, 100), found shape=(None, 180)\n"
     ]
    }
   ],
   "source": [
    "# import tensorflow as tf\n",
    "# from tensorflow.keras.layers import Input, Dense, Lambda, BatchNormalization, Embedding, Flatten, Reshape\n",
    "# from tensorflow.keras.models import Model\n",
    "# from tensorflow.keras import backend as K\n",
    "# from tensorflow.keras.losses import binary_crossentropy\n",
    "# from tensorflow.keras.optimizers import Adam\n",
    "# import numpy as np\n",
    "\n",
    "# def build_shared_encoder(latent_dim):\n",
    "#     inputs = Input(shape=(latent_dim,))\n",
    "#     x = Dense(128, activation='relu')(inputs)\n",
    "#     x = BatchNormalization()(x)\n",
    "#     shared_encoder_output = Dense(latent_dim)(x)\n",
    "\n",
    "#     shared_encoder = Model(inputs, shared_encoder_output)\n",
    "#     return shared_encoder\n",
    "\n",
    "# def build_shared_decoder(latent_dim, input_dim):\n",
    "#     inputs = Input(shape=(latent_dim,))\n",
    "#     x = Dense(128, activation='relu')(inputs)\n",
    "#     x = BatchNormalization()(x)\n",
    "#     shared_decoder_output = Dense(input_dim, activation='sigmoid')(x)\n",
    "\n",
    "#     shared_decoder = Model(inputs, shared_decoder_output)\n",
    "#     return shared_decoder\n",
    "# latent_dim = 100  \n",
    "# input_dim = X_padded.shape[1]\n",
    "# codebook_size = 32  \n",
    "# embedding_dim = 64  \n",
    "\n",
    "# continuous_vae_english = build_continuous_vae(input_dim, latent_dim)\n",
    "# history_continuous_english = continuous_vae_english.fit(X_padded, X_padded, epochs=10, batch_size=32)\n",
    "\n",
    "# continuous_vae_hindi = build_continuous_vae(input_dim, latent_dim)\n",
    "# history_continuous_hindi = continuous_vae_hindi.fit(Y_padded, Y_padded, epochs=10, batch_size=32)\n",
    "\n",
    "# continuous_rep_english = continuous_vae_english.predict(X_padded)\n",
    "# continuous_rep_hindi = continuous_vae_hindi.predict(Y_padded)\n",
    "\n",
    "# discrete_vq_vae_english = build_discrete_vq_vae(input_dim, codebook_size, embedding_dim)\n",
    "# history_discrete_english = discrete_vq_vae_english.fit(X_padded, X_padded, epochs=10, batch_size=32)\n",
    "\n",
    "# discrete_vq_vae_hindi = build_discrete_vq_vae(input_dim, codebook_size, embedding_dim)\n",
    "# history_discrete_hindi = discrete_vq_vae_hindi.fit(Y_padded, Y_padded, epochs=10, batch_size=32)\n",
    "\n",
    "# shared_encoder = build_shared_encoder(latent_dim)\n",
    "# shared_encoder.compile(optimizer=Adam(learning_rate=0.0001), loss='mse')\n",
    "\n",
    "# shared_encoder.fit(continuous_rep_english, continuous_rep_hindi, epochs=10, batch_size=32)\n",
    "\n",
    "# def build_adversarial_model(shared_encoder, discriminator):\n",
    "#     input_english = Input(shape=(latent_dim,))\n",
    "#     input_hindi = Input(shape=(latent_dim,))\n",
    "\n",
    "#     encoded_english = shared_encoder(input_english)\n",
    "#     encoded_hindi = shared_encoder(input_hindi)\n",
    "\n",
    "#     validity_english = discriminator(encoded_english)\n",
    "#     validity_hindi = discriminator(encoded_hindi)\n",
    "\n",
    "#     adversarial_model = Model([input_english, input_hindi], [validity_english, validity_hindi])\n",
    "#     adversarial_model.compile(optimizer=Adam(learning_rate=0.0001), loss='binary_crossentropy', metrics=['accuracy'])\n",
    "\n",
    "#     return adversarial_model\n",
    "\n",
    "# discriminator = build_discriminator(latent_dim)\n",
    "# discriminator.compile(optimizer=Adam(learning_rate=0.0001), loss='binary_crossentropy', metrics=['accuracy'])\n",
    "\n",
    "# adversarial_model = build_adversarial_model(shared_encoder, discriminator)\n",
    "# adversarial_model.fit([continuous_rep_english, continuous_rep_hindi], [np.ones((len(continuous_rep_english), 1)),\n",
    "#                                                                        np.zeros((len(continuous_rep_english), 1))],\n",
    "#                      epochs=10, batch_size=32)\n",
    "\n",
    "# shared_decoder = build_shared_decoder(latent_dim, input_dim)\n",
    "# shared_decoder.compile(optimizer=Adam(learning_rate=0.0001), loss='mse')\n",
    "\n",
    "# shared_decoder.fit(continuous_rep_english, X_padded, epochs=10, batch_size=32)"
   ]
  },
  {
   "cell_type": "code",
   "execution_count": null,
   "id": "6aed8fe4",
   "metadata": {},
   "outputs": [],
   "source": []
  },
  {
   "cell_type": "code",
   "execution_count": null,
   "id": "4fa7352c",
   "metadata": {},
   "outputs": [],
   "source": []
  },
  {
   "cell_type": "code",
   "execution_count": null,
   "id": "6e869c71",
   "metadata": {},
   "outputs": [],
   "source": []
  },
  {
   "cell_type": "code",
   "execution_count": null,
   "id": "1f10ffb4",
   "metadata": {},
   "outputs": [],
   "source": []
  },
  {
   "cell_type": "code",
   "execution_count": null,
   "id": "8e845c78",
   "metadata": {},
   "outputs": [],
   "source": []
  },
  {
   "cell_type": "code",
   "execution_count": null,
   "id": "9061977c",
   "metadata": {},
   "outputs": [],
   "source": []
  },
  {
   "cell_type": "code",
   "execution_count": null,
   "id": "5e7ffed6",
   "metadata": {},
   "outputs": [],
   "source": []
  },
  {
   "cell_type": "code",
   "execution_count": null,
   "id": "adb99515",
   "metadata": {},
   "outputs": [],
   "source": []
  },
  {
   "cell_type": "code",
   "execution_count": null,
   "id": "08663f6a",
   "metadata": {},
   "outputs": [],
   "source": []
  },
  {
   "cell_type": "code",
   "execution_count": null,
   "id": "f159ec6d",
   "metadata": {},
   "outputs": [],
   "source": []
  },
  {
   "cell_type": "code",
   "execution_count": null,
   "id": "f9acde1b",
   "metadata": {},
   "outputs": [],
   "source": []
  },
  {
   "cell_type": "code",
   "execution_count": null,
   "id": "0809d3c7",
   "metadata": {},
   "outputs": [],
   "source": []
  },
  {
   "cell_type": "code",
   "execution_count": null,
   "id": "0d78f2a4",
   "metadata": {},
   "outputs": [],
   "source": []
  },
  {
   "cell_type": "code",
   "execution_count": null,
   "id": "176db5b7",
   "metadata": {},
   "outputs": [],
   "source": []
  },
  {
   "cell_type": "code",
   "execution_count": null,
   "id": "ef560d09",
   "metadata": {},
   "outputs": [],
   "source": []
  },
  {
   "cell_type": "code",
   "execution_count": null,
   "id": "ae4fa5de",
   "metadata": {},
   "outputs": [],
   "source": []
  },
  {
   "cell_type": "code",
   "execution_count": null,
   "id": "ee634853",
   "metadata": {},
   "outputs": [],
   "source": []
  },
  {
   "cell_type": "code",
   "execution_count": null,
   "id": "40636f6d",
   "metadata": {},
   "outputs": [],
   "source": []
  },
  {
   "cell_type": "code",
   "execution_count": null,
   "id": "ee5eb9d4",
   "metadata": {},
   "outputs": [],
   "source": []
  }
 ],
 "metadata": {
  "kernelspec": {
   "display_name": "Python 3 (ipykernel)",
   "language": "python",
   "name": "python3"
  },
  "language_info": {
   "codemirror_mode": {
    "name": "ipython",
    "version": 3
   },
   "file_extension": ".py",
   "mimetype": "text/x-python",
   "name": "python",
   "nbconvert_exporter": "python",
   "pygments_lexer": "ipython3",
   "version": "3.10.13"
  }
 },
 "nbformat": 4,
 "nbformat_minor": 5
}
